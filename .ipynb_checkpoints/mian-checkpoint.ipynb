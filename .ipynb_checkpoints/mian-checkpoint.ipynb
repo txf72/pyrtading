{
 "cells": [
  {
   "cell_type": "code",
   "execution_count": 1,
   "metadata": {},
   "outputs": [],
   "source": []
  },
  {
   "cell_type": "code",
   "execution_count": 5,
   "metadata": {},
   "outputs": [
    {
     "data": {
      "text/plain": [
       "str"
      ]
     },
     "execution_count": 5,
     "metadata": {},
     "output_type": "execute_result"
    }
   ],
   "source": [
    "type(data)"
   ]
  },
  {
   "cell_type": "code",
   "execution_count": null,
   "metadata": {},
   "outputs": [],
   "source": [
    "import requests\n",
    "import json\n",
    "import hmac\n",
    "import hashlib\n",
    "import time\n",
    "from datetime import datetime\n",
    "\n",
    "import logging\n",
    "import sys\n",
    "logging.basicConfig(level=logging.INFO, stream=sys.stdout)\n",
    "\n",
    "\n",
    "class APIClient():\n",
    "    def __init__(self, access_token, account_id):\n",
    "        self.access_token = access_token\n",
    "        self.account_id = account_id\n",
    "\n",
    "    def get_balance(self):\n",
    "        apiKey = self.access_token\n",
    "        secretKey = self.account_id\n",
    "        timestamp = '{0}000'.format(int(time.mktime(datetime.now().timetuple())))\n",
    "        method = 'GET'\n",
    "        endPoint = 'https://api.coin.z.com/private'\n",
    "        path = '/v1/account/assets'\n",
    "\n",
    "        text = timestamp + method + path\n",
    "        sign = hmac.new(bytes(secretKey.encode('ascii')), bytes(\n",
    "            text.encode('ascii')), hashlib.sha256).hexdigest()\n",
    "\n",
    "        headers = {\n",
    "            \"API-KEY\": apiKey,\n",
    "            \"API-TIMESTAMP\": timestamp,\n",
    "            \"API-SIGN\": sign\n",
    "        }\n",
    "\n",
    "        res = requests.get(endPoint + path, headers=headers)\n",
    "        req = json.dumps(res.json(), indent=2)\n",
    "\n",
    "        return req\n"
   ]
  }
 ],
 "metadata": {
  "kernelspec": {
   "display_name": "Python 3",
   "language": "python",
   "name": "python3"
  },
  "language_info": {
   "codemirror_mode": {
    "name": "ipython",
    "version": 3
   },
   "file_extension": ".py",
   "mimetype": "text/x-python",
   "name": "python",
   "nbconvert_exporter": "python",
   "pygments_lexer": "ipython3",
   "version": "3.8.5"
  }
 },
 "nbformat": 4,
 "nbformat_minor": 5
}
